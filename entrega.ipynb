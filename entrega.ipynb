{
 "cells": [
  {
   "cell_type": "markdown",
   "metadata": {},
   "source": [
    "# Ejercicio 10\n",
    "Imports del modulo y de \"Counter\" para recopilar detalles."
   ]
  },
  {
   "cell_type": "code",
   "execution_count": 81,
   "metadata": {},
   "outputs": [],
   "source": [
    "from collections import Counter\n",
    "import estructuras_e2.estructuras as estructuras"
   ]
  },
  {
   "cell_type": "markdown",
   "metadata": {},
   "source": [
    "Asigno las estructuras, todos los nombres, los goles, los goles evitados, las asistencias del equipo, que son los datos importantes y a parte los partidos jugados"
   ]
  },
  {
   "cell_type": "code",
   "execution_count": 82,
   "metadata": {},
   "outputs": [],
   "source": [
    "partidos_jugados = 25\n",
    "names = estructuras.nombres()\n",
    "goals = estructuras.goles()\n",
    "goals_avoided = estructuras.goles_e()\n",
    "assists = estructuras.asistencias()"
   ]
  },
  {
   "cell_type": "markdown",
   "metadata": {},
   "source": [
    "Recorro cada nombre separado por coma cada uno, interpretando a cada nombre como una cadena de carácteres que termina en coma. Luego quito los espacios y las comas, reemplazo la primera letra de cada nombre por una mayúscula seguido de minúsculas y le reemplazo el apóstrofe a un nombre."
   ]
  },
  {
   "cell_type": "code",
   "execution_count": 83,
   "metadata": {},
   "outputs": [
    {
     "name": "stdout",
     "output_type": "stream",
     "text": [
      "['Agustin', 'Yanina', 'Andrés', 'Ariadna', 'Bautista', 'Carolina', 'Cesar', 'David', 'Diego', 'Dolores', 'Dylan', 'Eliana', 'Emanuel', 'Fabián', 'Noelia', 'Francsica', 'Federico', 'Fernanda', 'Gonzalo', 'Nancy']\n"
     ]
    }
   ],
   "source": [
    "names = [name.strip().capitalize().replace(\"'\", \"\") for name in names.split(',')]\n",
    "print(names)"
   ]
  },
  {
   "cell_type": "markdown",
   "metadata": {},
   "source": [
    "# Estructura\n",
    "Genero un diccionario para poder acceder a los datos a través de sus llaves, las cuales, en este caso son sus nombres, iterando en varias estructuras con la funcion zip() por cada uno de los datos. La asignación de la llave se hace con estadisticas[nombre] y le asigno a cada llave una tupla de los goles, goles evitados y asistencias. "
   ]
  },
  {
   "cell_type": "code",
   "execution_count": 84,
   "metadata": {},
   "outputs": [],
   "source": [
    "estadisticas = {}\n",
    "for nombre, goal, goal_avoided, assist in zip(names, goals, goals_avoided, assists):\n",
    "    estadisticas[nombre] = (goal, goal_avoided, assist)"
   ]
  },
  {
   "cell_type": "markdown",
   "metadata": {},
   "source": [
    "Genero la estructura goles como instancia de la clase Counter, que la uso para contar solo los goles de cada \"nombre\" ignorando las otras dos estadísticas de la tupla"
   ]
  },
  {
   "cell_type": "code",
   "execution_count": 85,
   "metadata": {},
   "outputs": [],
   "source": [
    "goles = Counter({nombre: goal for nombre, (goal, _, _) in estadisticas.items()})"
   ]
  },
  {
   "cell_type": "markdown",
   "metadata": {},
   "source": [
    "# Influencia\n",
    "Se hace un diccionario que tiene el como llave cada jugador y como dato su influencia en el equipo, para luego hacerle un conteo y facilitar la lectura de los detalles."
   ]
  },
  {
   "cell_type": "code",
   "execution_count": 86,
   "metadata": {},
   "outputs": [],
   "source": [
    "influencia = estructuras.valor(estadisticas)\n",
    "mas_influyente = Counter(influencia)"
   ]
  },
  {
   "cell_type": "markdown",
   "metadata": {},
   "source": [
    "## 2) Conocer el nombre y la cantidad de goles del goleador o goleadora.\n"
   ]
  },
  {
   "cell_type": "code",
   "execution_count": 87,
   "metadata": {},
   "outputs": [
    {
     "name": "stdout",
     "output_type": "stream",
     "text": [
      "El nombre del goleador o goleadora es: Carolina con 14 goles\n"
     ]
    }
   ],
   "source": [
    "best_striker = goles.most_common(1)[0][0]\n",
    "best_striker_name = goles.most_common(1)[0][1]\n",
    "print(f\"El nombre del goleador o goleadora es: {best_striker} con {best_striker_name} goles\")"
   ]
  },
  {
   "cell_type": "markdown",
   "metadata": {},
   "source": [
    "## 3) Conocer el nombre del jugador o jugadora más influyente"
   ]
  },
  {
   "cell_type": "code",
   "execution_count": 88,
   "metadata": {},
   "outputs": [
    {
     "name": "stdout",
     "output_type": "stream",
     "text": [
      "El nombre del jugador o jugadora mas influyente es: Carolina\n"
     ]
    }
   ],
   "source": [
    "most_influential = mas_influyente.most_common(1)[0][0]\n",
    "print(f\"El nombre del jugador o jugadora mas influyente es: {most_influential}\")"
   ]
  },
  {
   "cell_type": "markdown",
   "metadata": {},
   "source": [
    "## 4) Promedio de goles por partido del equipo en general, 25 partidos"
   ]
  },
  {
   "cell_type": "code",
   "execution_count": 89,
   "metadata": {},
   "outputs": [
    {
     "name": "stdout",
     "output_type": "stream",
     "text": [
      "El promedio de goles por partido del equipo es de 2.84 goles por partido\n"
     ]
    }
   ],
   "source": [
    "average_goals = estructuras.promedio_goles(estadisticas, partidos_jugados)\n",
    "print(f\"El promedio de goles por partido del equipo es de {average_goals} goles por partido\") "
   ]
  },
  {
   "cell_type": "markdown",
   "metadata": {},
   "source": [
    "## 5) Promedio de goles por partido del goleador o goleadora. "
   ]
  },
  {
   "cell_type": "code",
   "execution_count": 90,
   "metadata": {},
   "outputs": [
    {
     "name": "stdout",
     "output_type": "stream",
     "text": [
      "El promedio de goles por partido del goleador o goleadora Carolina es de: 0.56 goles por partido\n"
     ]
    }
   ],
   "source": [
    "average_best_striker = estructuras.top_scorer(goles.most_common(1)[0][1], partidos_jugados)\n",
    "print(f\"El promedio de goles por partido del goleador o goleadora {most_influential} es de: {average_best_striker} goles por partido\")"
   ]
  }
 ],
 "metadata": {
  "kernelspec": {
   "display_name": "seminario2024",
   "language": "python",
   "name": "python3"
  },
  "language_info": {
   "codemirror_mode": {
    "name": "ipython",
    "version": 3
   },
   "file_extension": ".py",
   "mimetype": "text/x-python",
   "name": "python",
   "nbconvert_exporter": "python",
   "pygments_lexer": "ipython3",
   "version": "3.11.8"
  }
 },
 "nbformat": 4,
 "nbformat_minor": 2
}
