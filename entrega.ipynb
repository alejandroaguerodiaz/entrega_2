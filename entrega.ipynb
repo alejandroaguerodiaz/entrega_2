{
 "cells": [
  {
   "cell_type": "markdown",
   "metadata": {},
   "source": [
    "# Ejercicio 10\n",
    "Imports del modulo y de \"Counter\" para recopilar detalles."
   ]
  },
  {
   "cell_type": "code",
   "execution_count": 2,
   "metadata": {},
   "outputs": [],
   "source": [
    "from collections import Counter\n",
    "import estructuras_e2.estructuras as estructuras"
   ]
  },
  {
   "cell_type": "markdown",
   "metadata": {},
   "source": [
    "Se van asignando las estructuras, todos los nombres, los goles, los goles evitados y las asistencias del equipo."
   ]
  },
  {
   "cell_type": "code",
   "execution_count": 3,
   "metadata": {},
   "outputs": [],
   "source": [
    "names = estructuras.nombres()\n",
    "goals = estructuras.goles()\n",
    "goals_avoided = estructuras.goles_e()\n",
    "assists = estructuras.asistencias()"
   ]
  },
  {
   "cell_type": "markdown",
   "metadata": {},
   "source": [
    "Saco los \"enter\" de cada nombre que se representan como \"\\n\", tambien le saco las comas y los espacios, \"luego\" de hacerle el split(\",\") para separar cada nombre\n",
    "Por último hago que cada nombre tenga la la primera letra mayúscula y el resto minúscula con .capitalize()"
   ]
  },
  {
   "cell_type": "code",
   "execution_count": 4,
   "metadata": {},
   "outputs": [],
   "source": [
    "names = names.replace('\\n', ', ').split(', ')\n",
    "names = [name.strip().capitalize() for name in names]"
   ]
  },
  {
   "cell_type": "markdown",
   "metadata": {},
   "source": [
    "# Estructura\n",
    "Genero un diccionario para poder acceder a los datos a través de sus llaves, las cuales, en este caso son sus nombres, iterando con la funcion zip() por cada uno de los datos. La asignación de la llave se hace con estadisticas[nombre] y le asigno una tupla de los goles, goles evitados y asistencias. "
   ]
  },
  {
   "cell_type": "code",
   "execution_count": 5,
   "metadata": {},
   "outputs": [],
   "source": [
    "estadisticas = {}\n",
    "for nombre, goal, goal_avoided, assist in zip(names, goals, goals_avoided, assists):\n",
    "    estadisticas[nombre] = (goal, goal_avoided, assist)"
   ]
  },
  {
   "cell_type": "markdown",
   "metadata": {},
   "source": [
    "Genero la estructura goles como subclase de la clase Counter, que la uso para contar solo los goles de cada \"nombre\" ignorando las otras dos estadísticas de la tupla"
   ]
  },
  {
   "cell_type": "code",
   "execution_count": 6,
   "metadata": {},
   "outputs": [],
   "source": [
    "goles = Counter({nombre: goal for nombre, (goal, _, _) in estadisticas.items()})"
   ]
  },
  {
   "cell_type": "markdown",
   "metadata": {},
   "source": [
    "# Influencia\n",
    "Se hace un diccionario que tiene el como llave cada jugador y como dato su influencia en el equipo, para luego hacerle un conteo y facilitar la lectura de los detalles."
   ]
  },
  {
   "cell_type": "code",
   "execution_count": 7,
   "metadata": {},
   "outputs": [],
   "source": [
    "influencia = estructuras.valor(estadisticas)\n",
    "mas_influyente = Counter(influencia)"
   ]
  },
  {
   "cell_type": "markdown",
   "metadata": {},
   "source": [
    "## 2) Conocer el nombre y la cantidad de goles del goleador o goleadora.\n"
   ]
  },
  {
   "cell_type": "code",
   "execution_count": 8,
   "metadata": {},
   "outputs": [
    {
     "name": "stdout",
     "output_type": "stream",
     "text": [
      "Carolina\n"
     ]
    }
   ],
   "source": [
    "print(goles.most_common(1)[0][0])"
   ]
  },
  {
   "cell_type": "markdown",
   "metadata": {},
   "source": [
    "## 3) Conocer el nombre del jugador o jugadora más influyente"
   ]
  },
  {
   "cell_type": "code",
   "execution_count": 9,
   "metadata": {},
   "outputs": [
    {
     "name": "stdout",
     "output_type": "stream",
     "text": [
      "Carolina\n"
     ]
    }
   ],
   "source": [
    "print(mas_influyente.most_common(1)[0][0])"
   ]
  },
  {
   "cell_type": "markdown",
   "metadata": {},
   "source": [
    "## 4) Promedio de goles por partido del equipo en general, 25 partidos"
   ]
  },
  {
   "cell_type": "code",
   "execution_count": 10,
   "metadata": {},
   "outputs": [
    {
     "name": "stdout",
     "output_type": "stream",
     "text": [
      "2.84\n"
     ]
    }
   ],
   "source": [
    "print(estructuras.promedio_goles(estadisticas)) "
   ]
  },
  {
   "cell_type": "markdown",
   "metadata": {},
   "source": [
    "## 5) Promedio de goles por partido del goleador o goleadora. "
   ]
  },
  {
   "cell_type": "code",
   "execution_count": 11,
   "metadata": {},
   "outputs": [
    {
     "name": "stdout",
     "output_type": "stream",
     "text": [
      "0.56\n"
     ]
    }
   ],
   "source": [
    "print(estructuras.top_scorer(goles.most_common(1)[0][1]))"
   ]
  }
 ],
 "metadata": {
  "kernelspec": {
   "display_name": "seminario2024",
   "language": "python",
   "name": "python3"
  },
  "language_info": {
   "codemirror_mode": {
    "name": "ipython",
    "version": 3
   },
   "file_extension": ".py",
   "mimetype": "text/x-python",
   "name": "python",
   "nbconvert_exporter": "python",
   "pygments_lexer": "ipython3",
   "version": "3.11.8"
  }
 },
 "nbformat": 4,
 "nbformat_minor": 2
}
